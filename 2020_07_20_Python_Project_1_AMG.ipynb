{
  "nbformat": 4,
  "nbformat_minor": 0,
  "metadata": {
    "colab": {
      "name": "2020.07.20_Python_Project_1_AMG.ipynb",
      "provenance": [],
      "collapsed_sections": []
    },
    "kernelspec": {
      "name": "python3",
      "display_name": "Python 3"
    }
  },
  "cells": [
    {
      "cell_type": "markdown",
      "metadata": {
        "id": "VsD1eyzgdiYG",
        "colab_type": "text"
      },
      "source": [
        "Arsenio Gonzalez - Project 1: \n",
        "instructions pick [a school and do a deep dive on the school] \n",
        "or \n",
        "[do a \"averages across schools comparison analysis\"]...............to discover and analyze is the goal#\n",
        "...... Create 3 Visualizations (can be a combination of Bar graphs and box/whisker) \n",
        ".... remember to clean the data and change column names if needed\n",
        "....comment out code to add descriptions that organize the steps of your deep dive discovery"
      ]
    },
    {
      "cell_type": "code",
      "metadata": {
        "id": "iZC_w7dpkfVv",
        "colab_type": "code",
        "colab": {
          "base_uri": "https://localhost:8080/",
          "height": 323
        },
        "outputId": "38753b9b-ed90-4e6d-b1ae-ee20439cf382"
      },
      "source": [
        "#import table and remove blank & s values#\n",
        "import pandas as pd\n",
        "import numpy as np\n",
        "import matplotlib.pyplot as plt\n",
        "import seaborn as sns\n",
        "\n",
        "missing_values=['na', 's']\n",
        "df = pd.read_csv('https://raw.githubusercontent.com/CunyLaguardiaDataAnalytics/datasets/master/2014-15_To_2016-17_School-_Level_NYC_Regents_Report_For_All_Variables.csv', na_values=missing_values)\n",
        "\n",
        "df.head(5)\n",
        "\n",
        "#check data types within imported table column#\n",
        "#df.dtypes"
      ],
      "execution_count": 65,
      "outputs": [
        {
          "output_type": "execute_result",
          "data": {
            "text/html": [
              "<div>\n",
              "<style scoped>\n",
              "    .dataframe tbody tr th:only-of-type {\n",
              "        vertical-align: middle;\n",
              "    }\n",
              "\n",
              "    .dataframe tbody tr th {\n",
              "        vertical-align: top;\n",
              "    }\n",
              "\n",
              "    .dataframe thead th {\n",
              "        text-align: right;\n",
              "    }\n",
              "</style>\n",
              "<table border=\"1\" class=\"dataframe\">\n",
              "  <thead>\n",
              "    <tr style=\"text-align: right;\">\n",
              "      <th></th>\n",
              "      <th>School DBN</th>\n",
              "      <th>School Name</th>\n",
              "      <th>School Level</th>\n",
              "      <th>Regents Exam</th>\n",
              "      <th>Year</th>\n",
              "      <th>Total Tested</th>\n",
              "      <th>Mean Score</th>\n",
              "      <th>Number Scoring Below 65</th>\n",
              "      <th>Percent Scoring Below 65</th>\n",
              "      <th>Number Scoring 65 or Above</th>\n",
              "      <th>Percent Scoring 65 or Above</th>\n",
              "      <th>Number Scoring 80 or Above</th>\n",
              "      <th>Percent Scoring 80 or Above</th>\n",
              "      <th>Number Scoring CR</th>\n",
              "      <th>Percent Scoring CR</th>\n",
              "    </tr>\n",
              "  </thead>\n",
              "  <tbody>\n",
              "    <tr>\n",
              "      <th>0</th>\n",
              "      <td>01M034</td>\n",
              "      <td>P.S. 034 Franklin D. Roosevelt</td>\n",
              "      <td>K-8</td>\n",
              "      <td>Common Core Algebra</td>\n",
              "      <td>2017</td>\n",
              "      <td>4</td>\n",
              "      <td>NaN</td>\n",
              "      <td>NaN</td>\n",
              "      <td>NaN</td>\n",
              "      <td>NaN</td>\n",
              "      <td>NaN</td>\n",
              "      <td>NaN</td>\n",
              "      <td>NaN</td>\n",
              "      <td>NaN</td>\n",
              "      <td>NaN</td>\n",
              "    </tr>\n",
              "    <tr>\n",
              "      <th>1</th>\n",
              "      <td>01M034</td>\n",
              "      <td>P.S. 034 Franklin D. Roosevelt</td>\n",
              "      <td>K-8</td>\n",
              "      <td>Living Environment</td>\n",
              "      <td>2015</td>\n",
              "      <td>16</td>\n",
              "      <td>77.9</td>\n",
              "      <td>1.0</td>\n",
              "      <td>6.3</td>\n",
              "      <td>15.0</td>\n",
              "      <td>93.8</td>\n",
              "      <td>7.0</td>\n",
              "      <td>43.8</td>\n",
              "      <td>NaN</td>\n",
              "      <td>NaN</td>\n",
              "    </tr>\n",
              "    <tr>\n",
              "      <th>2</th>\n",
              "      <td>01M034</td>\n",
              "      <td>P.S. 034 Franklin D. Roosevelt</td>\n",
              "      <td>K-8</td>\n",
              "      <td>Living Environment</td>\n",
              "      <td>2016</td>\n",
              "      <td>9</td>\n",
              "      <td>74.0</td>\n",
              "      <td>1.0</td>\n",
              "      <td>11.1</td>\n",
              "      <td>8.0</td>\n",
              "      <td>88.9</td>\n",
              "      <td>2.0</td>\n",
              "      <td>22.2</td>\n",
              "      <td>NaN</td>\n",
              "      <td>NaN</td>\n",
              "    </tr>\n",
              "    <tr>\n",
              "      <th>3</th>\n",
              "      <td>01M140</td>\n",
              "      <td>P.S. 140 Nathan Straus</td>\n",
              "      <td>K-8</td>\n",
              "      <td>Common Core Algebra</td>\n",
              "      <td>2016</td>\n",
              "      <td>3</td>\n",
              "      <td>NaN</td>\n",
              "      <td>NaN</td>\n",
              "      <td>NaN</td>\n",
              "      <td>NaN</td>\n",
              "      <td>NaN</td>\n",
              "      <td>NaN</td>\n",
              "      <td>NaN</td>\n",
              "      <td>NaN</td>\n",
              "      <td>NaN</td>\n",
              "    </tr>\n",
              "    <tr>\n",
              "      <th>4</th>\n",
              "      <td>01M140</td>\n",
              "      <td>P.S. 140 Nathan Straus</td>\n",
              "      <td>K-8</td>\n",
              "      <td>Common Core Algebra</td>\n",
              "      <td>2017</td>\n",
              "      <td>2</td>\n",
              "      <td>NaN</td>\n",
              "      <td>NaN</td>\n",
              "      <td>NaN</td>\n",
              "      <td>NaN</td>\n",
              "      <td>NaN</td>\n",
              "      <td>NaN</td>\n",
              "      <td>NaN</td>\n",
              "      <td>NaN</td>\n",
              "      <td>NaN</td>\n",
              "    </tr>\n",
              "  </tbody>\n",
              "</table>\n",
              "</div>"
            ],
            "text/plain": [
              "  School DBN  ... Percent Scoring CR\n",
              "0     01M034  ...                NaN\n",
              "1     01M034  ...                NaN\n",
              "2     01M034  ...                NaN\n",
              "3     01M140  ...                NaN\n",
              "4     01M140  ...                NaN\n",
              "\n",
              "[5 rows x 15 columns]"
            ]
          },
          "metadata": {
            "tags": []
          },
          "execution_count": 65
        }
      ]
    },
    {
      "cell_type": "code",
      "metadata": {
        "id": "SPpYmz2AljTO",
        "colab_type": "code",
        "colab": {
          "base_uri": "https://localhost:8080/",
          "height": 408
        },
        "outputId": "f1ba6253-2651-409c-80f8-3bdf26ab86f9"
      },
      "source": [
        "#isolate all of the schools that fall into the highschool level\n",
        "import pandas as pd\n",
        "import numpy as np\n",
        "import matplotlib.pyplot as plt\n",
        "import seaborn as sns\n",
        "\n",
        "missing_values=['na', 's']\n",
        "df = pd.read_csv('https://raw.githubusercontent.com/CunyLaguardiaDataAnalytics/datasets/master/2014-15_To_2016-17_School-_Level_NYC_Regents_Report_For_All_Variables.csv', na_values=missing_values)\n",
        "\n",
        "dfHS = df[df['School Level'].str.contains('High school')]\n",
        "dfHS.head(5)\n"
      ],
      "execution_count": 13,
      "outputs": [
        {
          "output_type": "execute_result",
          "data": {
            "text/html": [
              "<div>\n",
              "<style scoped>\n",
              "    .dataframe tbody tr th:only-of-type {\n",
              "        vertical-align: middle;\n",
              "    }\n",
              "\n",
              "    .dataframe tbody tr th {\n",
              "        vertical-align: top;\n",
              "    }\n",
              "\n",
              "    .dataframe thead th {\n",
              "        text-align: right;\n",
              "    }\n",
              "</style>\n",
              "<table border=\"1\" class=\"dataframe\">\n",
              "  <thead>\n",
              "    <tr style=\"text-align: right;\">\n",
              "      <th></th>\n",
              "      <th>School DBN</th>\n",
              "      <th>School Name</th>\n",
              "      <th>School Level</th>\n",
              "      <th>Regents Exam</th>\n",
              "      <th>Year</th>\n",
              "      <th>Total Tested</th>\n",
              "      <th>Mean Score</th>\n",
              "      <th>Number Scoring Below 65</th>\n",
              "      <th>Percent Scoring Below 65</th>\n",
              "      <th>Number Scoring 65 or Above</th>\n",
              "      <th>Percent Scoring 65 or Above</th>\n",
              "      <th>Number Scoring 80 or Above</th>\n",
              "      <th>Percent Scoring 80 or Above</th>\n",
              "      <th>Number Scoring CR</th>\n",
              "      <th>Percent Scoring CR</th>\n",
              "    </tr>\n",
              "  </thead>\n",
              "  <tbody>\n",
              "    <tr>\n",
              "      <th>18</th>\n",
              "      <td>01M292</td>\n",
              "      <td>Orchard Collegiate Academy</td>\n",
              "      <td>High school</td>\n",
              "      <td>Algebra2/Trigonometry</td>\n",
              "      <td>2015</td>\n",
              "      <td>5</td>\n",
              "      <td>NaN</td>\n",
              "      <td>NaN</td>\n",
              "      <td>NaN</td>\n",
              "      <td>NaN</td>\n",
              "      <td>NaN</td>\n",
              "      <td>NaN</td>\n",
              "      <td>NaN</td>\n",
              "      <td>NaN</td>\n",
              "      <td>NaN</td>\n",
              "    </tr>\n",
              "    <tr>\n",
              "      <th>19</th>\n",
              "      <td>01M292</td>\n",
              "      <td>Orchard Collegiate Academy</td>\n",
              "      <td>High school</td>\n",
              "      <td>Algebra2/Trigonometry</td>\n",
              "      <td>2016</td>\n",
              "      <td>5</td>\n",
              "      <td>NaN</td>\n",
              "      <td>NaN</td>\n",
              "      <td>NaN</td>\n",
              "      <td>NaN</td>\n",
              "      <td>NaN</td>\n",
              "      <td>NaN</td>\n",
              "      <td>NaN</td>\n",
              "      <td>NaN</td>\n",
              "      <td>NaN</td>\n",
              "    </tr>\n",
              "    <tr>\n",
              "      <th>20</th>\n",
              "      <td>01M292</td>\n",
              "      <td>Orchard Collegiate Academy</td>\n",
              "      <td>High school</td>\n",
              "      <td>Common Core Algebra</td>\n",
              "      <td>2015</td>\n",
              "      <td>12</td>\n",
              "      <td>52.3</td>\n",
              "      <td>11.0</td>\n",
              "      <td>91.7</td>\n",
              "      <td>1.0</td>\n",
              "      <td>8.3</td>\n",
              "      <td>0.0</td>\n",
              "      <td>0.0</td>\n",
              "      <td>0.0</td>\n",
              "      <td>0.0</td>\n",
              "    </tr>\n",
              "    <tr>\n",
              "      <th>21</th>\n",
              "      <td>01M292</td>\n",
              "      <td>Orchard Collegiate Academy</td>\n",
              "      <td>High school</td>\n",
              "      <td>Common Core Algebra</td>\n",
              "      <td>2016</td>\n",
              "      <td>50</td>\n",
              "      <td>63.9</td>\n",
              "      <td>25.0</td>\n",
              "      <td>50.0</td>\n",
              "      <td>25.0</td>\n",
              "      <td>50.0</td>\n",
              "      <td>3.0</td>\n",
              "      <td>6.0</td>\n",
              "      <td>15.0</td>\n",
              "      <td>30.0</td>\n",
              "    </tr>\n",
              "    <tr>\n",
              "      <th>22</th>\n",
              "      <td>01M292</td>\n",
              "      <td>Orchard Collegiate Academy</td>\n",
              "      <td>High school</td>\n",
              "      <td>Common Core Algebra</td>\n",
              "      <td>2017</td>\n",
              "      <td>53</td>\n",
              "      <td>67.5</td>\n",
              "      <td>15.0</td>\n",
              "      <td>28.3</td>\n",
              "      <td>38.0</td>\n",
              "      <td>71.7</td>\n",
              "      <td>6.0</td>\n",
              "      <td>11.3</td>\n",
              "      <td>29.0</td>\n",
              "      <td>54.7</td>\n",
              "    </tr>\n",
              "  </tbody>\n",
              "</table>\n",
              "</div>"
            ],
            "text/plain": [
              "   School DBN  ... Percent Scoring CR\n",
              "18     01M292  ...                NaN\n",
              "19     01M292  ...                NaN\n",
              "20     01M292  ...                0.0\n",
              "21     01M292  ...               30.0\n",
              "22     01M292  ...               54.7\n",
              "\n",
              "[5 rows x 15 columns]"
            ]
          },
          "metadata": {
            "tags": []
          },
          "execution_count": 13
        }
      ]
    },
    {
      "cell_type": "code",
      "metadata": {
        "id": "Mpvq4wH1klcF",
        "colab_type": "code",
        "colab": {
          "base_uri": "https://localhost:8080/",
          "height": 357
        },
        "outputId": "fdcc7b9d-c275-48c7-9273-65f38d5d8b2e"
      },
      "source": [
        "#use multiple ()& statements to drill down to the school level & exam you want to analyze#\n",
        "import pandas as pd\n",
        "import numpy as np\n",
        "import matplotlib.pyplot as plt\n",
        "import seaborn as sns\n",
        "\n",
        "missing_values=['na', 's']\n",
        "df = pd.read_csv('https://raw.githubusercontent.com/CunyLaguardiaDataAnalytics/datasets/master/2014-15_To_2016-17_School-_Level_NYC_Regents_Report_For_All_Variables.csv', na_values=missing_values)\n",
        "\n",
        "\n",
        "dfHSEnv = df[(df['Regents Exam']== 'Living Environment') & (df['School Level']== 'High school')]\n",
        "dfHSEnv.head(5)\n",
        "#dfHSEnv.mean()\n",
        "#dfHSEnv.count()\n",
        "#dfHSEnv.describe()"
      ],
      "execution_count": 14,
      "outputs": [
        {
          "output_type": "execute_result",
          "data": {
            "text/html": [
              "<div>\n",
              "<style scoped>\n",
              "    .dataframe tbody tr th:only-of-type {\n",
              "        vertical-align: middle;\n",
              "    }\n",
              "\n",
              "    .dataframe tbody tr th {\n",
              "        vertical-align: top;\n",
              "    }\n",
              "\n",
              "    .dataframe thead th {\n",
              "        text-align: right;\n",
              "    }\n",
              "</style>\n",
              "<table border=\"1\" class=\"dataframe\">\n",
              "  <thead>\n",
              "    <tr style=\"text-align: right;\">\n",
              "      <th></th>\n",
              "      <th>School DBN</th>\n",
              "      <th>School Name</th>\n",
              "      <th>School Level</th>\n",
              "      <th>Regents Exam</th>\n",
              "      <th>Year</th>\n",
              "      <th>Total Tested</th>\n",
              "      <th>Mean Score</th>\n",
              "      <th>Number Scoring Below 65</th>\n",
              "      <th>Percent Scoring Below 65</th>\n",
              "      <th>Number Scoring 65 or Above</th>\n",
              "      <th>Percent Scoring 65 or Above</th>\n",
              "      <th>Number Scoring 80 or Above</th>\n",
              "      <th>Percent Scoring 80 or Above</th>\n",
              "      <th>Number Scoring CR</th>\n",
              "      <th>Percent Scoring CR</th>\n",
              "    </tr>\n",
              "  </thead>\n",
              "  <tbody>\n",
              "    <tr>\n",
              "      <th>40</th>\n",
              "      <td>01M292</td>\n",
              "      <td>Orchard Collegiate Academy</td>\n",
              "      <td>High school</td>\n",
              "      <td>Living Environment</td>\n",
              "      <td>2015</td>\n",
              "      <td>74</td>\n",
              "      <td>55.4</td>\n",
              "      <td>50.0</td>\n",
              "      <td>67.6</td>\n",
              "      <td>24.0</td>\n",
              "      <td>32.4</td>\n",
              "      <td>2.0</td>\n",
              "      <td>2.7</td>\n",
              "      <td>NaN</td>\n",
              "      <td>NaN</td>\n",
              "    </tr>\n",
              "    <tr>\n",
              "      <th>41</th>\n",
              "      <td>01M292</td>\n",
              "      <td>Orchard Collegiate Academy</td>\n",
              "      <td>High school</td>\n",
              "      <td>Living Environment</td>\n",
              "      <td>2016</td>\n",
              "      <td>72</td>\n",
              "      <td>63.2</td>\n",
              "      <td>32.0</td>\n",
              "      <td>44.4</td>\n",
              "      <td>40.0</td>\n",
              "      <td>55.6</td>\n",
              "      <td>1.0</td>\n",
              "      <td>1.4</td>\n",
              "      <td>NaN</td>\n",
              "      <td>NaN</td>\n",
              "    </tr>\n",
              "    <tr>\n",
              "      <th>42</th>\n",
              "      <td>01M292</td>\n",
              "      <td>Orchard Collegiate Academy</td>\n",
              "      <td>High school</td>\n",
              "      <td>Living Environment</td>\n",
              "      <td>2017</td>\n",
              "      <td>61</td>\n",
              "      <td>65.0</td>\n",
              "      <td>26.0</td>\n",
              "      <td>42.6</td>\n",
              "      <td>35.0</td>\n",
              "      <td>57.4</td>\n",
              "      <td>5.0</td>\n",
              "      <td>8.2</td>\n",
              "      <td>NaN</td>\n",
              "      <td>NaN</td>\n",
              "    </tr>\n",
              "    <tr>\n",
              "      <th>82</th>\n",
              "      <td>01M448</td>\n",
              "      <td>University Neighborhood High School</td>\n",
              "      <td>High school</td>\n",
              "      <td>Living Environment</td>\n",
              "      <td>2015</td>\n",
              "      <td>125</td>\n",
              "      <td>67.7</td>\n",
              "      <td>37.0</td>\n",
              "      <td>29.6</td>\n",
              "      <td>88.0</td>\n",
              "      <td>70.4</td>\n",
              "      <td>19.0</td>\n",
              "      <td>15.2</td>\n",
              "      <td>NaN</td>\n",
              "      <td>NaN</td>\n",
              "    </tr>\n",
              "    <tr>\n",
              "      <th>83</th>\n",
              "      <td>01M448</td>\n",
              "      <td>University Neighborhood High School</td>\n",
              "      <td>High school</td>\n",
              "      <td>Living Environment</td>\n",
              "      <td>2016</td>\n",
              "      <td>128</td>\n",
              "      <td>69.8</td>\n",
              "      <td>39.0</td>\n",
              "      <td>30.5</td>\n",
              "      <td>89.0</td>\n",
              "      <td>69.5</td>\n",
              "      <td>31.0</td>\n",
              "      <td>24.2</td>\n",
              "      <td>NaN</td>\n",
              "      <td>NaN</td>\n",
              "    </tr>\n",
              "  </tbody>\n",
              "</table>\n",
              "</div>"
            ],
            "text/plain": [
              "   School DBN  ... Percent Scoring CR\n",
              "40     01M292  ...                NaN\n",
              "41     01M292  ...                NaN\n",
              "42     01M292  ...                NaN\n",
              "82     01M448  ...                NaN\n",
              "83     01M448  ...                NaN\n",
              "\n",
              "[5 rows x 15 columns]"
            ]
          },
          "metadata": {
            "tags": []
          },
          "execution_count": 14
        }
      ]
    },
    {
      "cell_type": "code",
      "metadata": {
        "id": "2yuWYrF-0KF7",
        "colab_type": "code",
        "colab": {
          "base_uri": "https://localhost:8080/",
          "height": 102
        },
        "outputId": "eb353a80-308a-461c-8c13-07b47dac92a7"
      },
      "source": [
        "#determine the combined average of all the Living Environment exam mean scores from each of the high schools every year...#\n",
        "# this is the Avg of the Mean Score (approximately 66.71 in 2015 for example) from All High Schools that we will compare your selected score as a benchmark comparison #\n",
        "\n",
        "import pandas as pd\n",
        "import numpy as np\n",
        "import matplotlib.pyplot as plt\n",
        "import seaborn as sns\n",
        "\n",
        "missing_values=['na', 's']\n",
        "df = pd.read_csv('https://raw.githubusercontent.com/CunyLaguardiaDataAnalytics/datasets/master/2014-15_To_2016-17_School-_Level_NYC_Regents_Report_For_All_Variables.csv', na_values=missing_values)\n",
        "\n",
        "\n",
        "YrAvg4All = dfHSEnv.groupby(['Year'])['Mean Score'].mean()\n",
        "YrAvg4All"
      ],
      "execution_count": 47,
      "outputs": [
        {
          "output_type": "execute_result",
          "data": {
            "text/plain": [
              "<bound method Series.mean of Year\n",
              "2015    66.710384\n",
              "2016    66.843057\n",
              "2017    65.368200\n",
              "Name: Mean Score, dtype: float64>"
            ]
          },
          "metadata": {
            "tags": []
          },
          "execution_count": 47
        }
      ]
    },
    {
      "cell_type": "code",
      "metadata": {
        "id": "WugBndVuBNvg",
        "colab_type": "code",
        "colab": {
          "base_uri": "https://localhost:8080/",
          "height": 386
        },
        "outputId": "ea640a21-c004-4b09-e2cb-79fb32c08f82"
      },
      "source": [
        "# Use a Boxen seaborn graph to show the distribution of the Living Environment exam Mean Scores in All High Schools every year \n",
        "import pandas as pd\n",
        "import numpy as np\n",
        "import matplotlib.pyplot as plt\n",
        "import seaborn as sns\n",
        "\n",
        "missing_values=['na', 's']\n",
        "df = pd.read_csv('https://raw.githubusercontent.com/CunyLaguardiaDataAnalytics/datasets/master/2014-15_To_2016-17_School-_Level_NYC_Regents_Report_For_All_Variables.csv', na_values=missing_values)\n",
        "\n",
        "dfALL = df[   (df['School Level']== 'High school') & (df['Regents Exam']== 'Living Environment')  ] \n",
        "\n",
        "sns.catplot(x= 'Year', y= 'Mean Score', kind= 'boxen',  data=dfALL )"
      ],
      "execution_count": 61,
      "outputs": [
        {
          "output_type": "execute_result",
          "data": {
            "text/plain": [
              "<seaborn.axisgrid.FacetGrid at 0x7f4e37956668>"
            ]
          },
          "metadata": {
            "tags": []
          },
          "execution_count": 61
        },
        {
          "output_type": "display_data",
          "data": {
            "image/png": "[encoded data removed]",
            "text/plain": [
              "<Figure size 360x360 with 1 Axes>"
            ]
          },
          "metadata": {
            "tags": [],
            "needs_background": "light"
          }
        }
      ]
    },
    {
      "cell_type": "code",
      "metadata": {
        "id": "-jNgf7khIHqy",
        "colab_type": "code",
        "colab": {
          "base_uri": "https://localhost:8080/",
          "height": 328
        },
        "outputId": "e05da265-a6d6-4465-fa40-58bbc1537ea3"
      },
      "source": [
        "# Use a Bar graph to Polt the Avg of the Living Environment exam Mean Score in All High Schools combined \n",
        "import pandas as pd\n",
        "import numpy as np\n",
        "import matplotlib.pyplot as plt\n",
        "import seaborn as sns\n",
        "\n",
        "missing_values=['na', 's']\n",
        "df = pd.read_csv('https://raw.githubusercontent.com/CunyLaguardiaDataAnalytics/datasets/master/2014-15_To_2016-17_School-_Level_NYC_Regents_Report_For_All_Variables.csv', na_values=missing_values)\n",
        "\n",
        "YrAvg4All = dfHSEnv.groupby(['Year'])['Mean Score'].mean()\n",
        "\n",
        "ax= plt.gca()\n",
        "YrAvg4All.plot(kind='bar', x='Mean Score', y='Year', ax=ax)\n",
        "plt.show\n",
        "plt.title('Living Environment Exam: Yearly Average Score at ALL High Schools')\n",
        "plt.ylabel('Average Exam Score Overall')\n",
        "plt.xlabel('year')"
      ],
      "execution_count": 48,
      "outputs": [
        {
          "output_type": "execute_result",
          "data": {
            "text/plain": [
              "Text(0.5, 0, 'year')"
            ]
          },
          "metadata": {
            "tags": []
          },
          "execution_count": 48
        },
        {
          "output_type": "display_data",
          "data": {
            "image/png": "[encoded data removed]",
            "text/plain": [
              "<Figure size 432x288 with 1 Axes>"
            ]
          },
          "metadata": {
            "tags": [],
            "needs_background": "light"
          }
        }
      ]
    },
    {
      "cell_type": "code",
      "metadata": {
        "id": "I5I7PmR2vvbX",
        "colab_type": "code",
        "colab": {}
      },
      "source": [
        ""
      ],
      "execution_count": null,
      "outputs": []
    },
    {
      "cell_type": "code",
      "metadata": {
        "id": "qsyl8nvu0Qzr",
        "colab_type": "code",
        "colab": {
          "base_uri": "https://localhost:8080/",
          "height": 102
        },
        "outputId": "b6b88e34-a2cb-40a9-bf4f-28de16ba1143"
      },
      "source": [
        "###determine the combined average exam mean scores of all the classes who took a Living Environment in ONE specific high school every year\n",
        "import pandas as pd\n",
        "import numpy as np\n",
        "import matplotlib.pyplot as plt\n",
        "import seaborn as sns\n",
        "\n",
        "missing_values=['na', 's']\n",
        "df = pd.read_csv('https://raw.githubusercontent.com/CunyLaguardiaDataAnalytics/datasets/master/2014-15_To_2016-17_School-_Level_NYC_Regents_Report_For_All_Variables.csv', na_values=missing_values)\n",
        "\n",
        "\n",
        "dfHSEnv98 = df[(df['School DBN']== '02M298') & (df['School Level']== 'High school') & (df['Regents Exam']== 'Living Environment')] \n",
        "PaceYrAvg = dfHSEnv98.groupby(['Year','School Name'])['Mean Score'].mean()\n",
        "print(PaceYrAvg)"
      ],
      "execution_count": 19,
      "outputs": [
        {
          "output_type": "stream",
          "text": [
            "Year  School Name     \n",
            "2015  Pace High School    76.155556\n",
            "2016  Pace High School    71.755556\n",
            "2017  Pace High School    66.372727\n",
            "Name: Mean Score, dtype: float64\n"
          ],
          "name": "stdout"
        }
      ]
    },
    {
      "cell_type": "code",
      "metadata": {
        "id": "CTY_p5DLJhZu",
        "colab_type": "code",
        "colab": {
          "base_uri": "https://localhost:8080/",
          "height": 312
        },
        "outputId": "b7b8de71-f1b2-4213-b534-2ae5543a7794"
      },
      "source": [
        "#plot a graph that displays the trend of the combined average exam mean scores of all the classes who took a Living Environment at Pace high school every year\n",
        "import pandas as pd\n",
        "import numpy as np\n",
        "import matplotlib.pyplot as plt\n",
        "import seaborn as sns\n",
        "missing_values=['na', 's']\n",
        "df = pd.read_csv('https://raw.githubusercontent.com/CunyLaguardiaDataAnalytics/datasets/master/2014-15_To_2016-17_School-_Level_NYC_Regents_Report_For_All_Variables.csv', na_values=missing_values)\n",
        "\n",
        "\n",
        "\n",
        "PaceYrAvg.plot(kind='line', x='Year', y='Mean Score')\n",
        "plt.show\n",
        "plt.title('Living Environment Exam: Yearly Average Score at Pace')\n",
        "plt.ylabel('Average Score Overall')\n",
        "plt.xlabel('Year + School')\n",
        "#seems like the Average score trends down over the 3 years period between 2015 thru 2017"
      ],
      "execution_count": 62,
      "outputs": [
        {
          "output_type": "execute_result",
          "data": {
            "text/plain": [
              "Text(0.5, 0, 'Year + School')"
            ]
          },
          "metadata": {
            "tags": []
          },
          "execution_count": 62
        },
        {
          "output_type": "display_data",
          "data": {
            "image/png": "[encoded data removed]",
            "text/plain": [
              "<Figure size 432x288 with 1 Axes>"
            ]
          },
          "metadata": {
            "tags": [],
            "needs_background": "light"
          }
        }
      ]
    },
    {
      "cell_type": "code",
      "metadata": {
        "id": "dXIUAZgESaS6",
        "colab_type": "code",
        "colab": {
          "base_uri": "https://localhost:8080/",
          "height": 153
        },
        "outputId": "8413f982-d9da-496d-fdd7-47ad2745ba54"
      },
      "source": [
        "#Compare Step 1: obtain data to determine the combined average exam mean scores of all the classes who took a Living Environment Exam at TWO specific high schools every year\n",
        "import pandas as pd\n",
        "import numpy as np\n",
        "import matplotlib.pyplot as plt\n",
        "import seaborn as sns\n",
        "missing_values=['na', 's']\n",
        "df = pd.read_csv('https://raw.githubusercontent.com/CunyLaguardiaDataAnalytics/datasets/master/2014-15_To_2016-17_School-_Level_NYC_Regents_Report_For_All_Variables.csv', na_values=missing_values)\n",
        "\n",
        "\n",
        "\n",
        "dfCompare = df[(df['School DBN']== '02M298') | (df['School DBN']== '02M280') & (df['School Level']== 'High school') & (df['Regents Exam']== 'Living Environment')] \n",
        "CompareYrAvg = dfCompare.groupby(['School Name','Year'])['Mean Score'].mean()\n",
        "CompareYrAvg\n",
        "#SEEMS LIKE Manhattan is performing better than Pace on average between 2015 and 2017....lets plot this in our next code block on graph! "
      ],
      "execution_count": 24,
      "outputs": [
        {
          "output_type": "execute_result",
          "data": {
            "text/plain": [
              "School Name                                     Year\n",
              "Manhattan Early College School for Advertising  2015    76.710000\n",
              "                                                2016    74.627273\n",
              "                                                2017    72.581818\n",
              "Pace High School                                2015    68.896330\n",
              "                                                2016    67.449462\n",
              "                                                2017    69.287209\n",
              "Name: Mean Score, dtype: float64"
            ]
          },
          "metadata": {
            "tags": []
          },
          "execution_count": 24
        }
      ]
    },
    {
      "cell_type": "code",
      "metadata": {
        "id": "5QNBtUMCbkOZ",
        "colab_type": "code",
        "colab": {
          "base_uri": "https://localhost:8080/",
          "height": 102
        },
        "outputId": "1966bf71-e517-4da9-ddab-66f84203d919"
      },
      "source": [
        "#get yearly average for all schools OTHER THAN Pace and ManhattanEarly School#\n",
        "import pandas as pd\n",
        "import numpy as np\n",
        "import matplotlib.pyplot as plt\n",
        "import seaborn as sns\n",
        "missing_values=['na', 's']\n",
        "df = pd.read_csv('https://raw.githubusercontent.com/CunyLaguardiaDataAnalytics/datasets/master/2014-15_To_2016-17_School-_Level_NYC_Regents_Report_For_All_Variables.csv', na_values=missing_values)\n",
        "\n",
        "\n",
        "\n",
        "dfOtherSchool = df[(df['School DBN']!= '02M298') | (df['School DBN']!= '02M280') & (df['School Level']== 'High school') & (df['Regents Exam']== 'Living Environment')] \n",
        "dfYrLivAvgOther = dfOtherSchool.groupby(['Year'])['Mean Score'].mean()\n",
        "dfYrLivAvgOther\n",
        "\n",
        "# to determine if Two Highschools score above the lowest average score 65 for the Living Environment Exam across all highschools displayed below\n",
        "# in the next step we will set the threshold score to 66 "
      ],
      "execution_count": 26,
      "outputs": [
        {
          "output_type": "execute_result",
          "data": {
            "text/plain": [
              "Year\n",
              "2015    65.716295\n",
              "2016    65.644238\n",
              "2017    66.703061\n",
              "Name: Mean Score, dtype: float64"
            ]
          },
          "metadata": {
            "tags": []
          },
          "execution_count": 26
        }
      ]
    },
    {
      "cell_type": "code",
      "metadata": {
        "colab_type": "code",
        "id": "whJFakxTc_lB",
        "colab": {
          "base_uri": "https://localhost:8080/",
          "height": 577
        },
        "outputId": "03b7a9b7-7f09-424c-ad0b-7d2dbeef02d1"
      },
      "source": [
        "#compare yearly average for Pace and ManhattanEarly High Schools side by side#\n",
        "import pandas as pd\n",
        "import numpy as np\n",
        "import matplotlib.pyplot as plt\n",
        "import seaborn as sns\n",
        "missing_values=['na', 's']\n",
        "df = pd.read_csv('https://raw.githubusercontent.com/CunyLaguardiaDataAnalytics/datasets/master/2014-15_To_2016-17_School-_Level_NYC_Regents_Report_For_All_Variables.csv', na_values=missing_values)\n",
        "\n",
        "thresholdavg= 66\n",
        "dfCompare = df[(df['School DBN']== '02M298') | (df['School DBN']== '02M280') & (df['School Level']== 'High school') & (df['Regents Exam']== 'Living Environment')] \n",
        "CompareYrAvg = dfCompare.groupby(['Year','School Name'])['Mean Score'].mean().plot(kind='bar', color= ['green','orange'], edgecolor= 'black')\n",
        "plt.axhline(y=thresholdavg,linewidth=3, color='m')\n",
        "plt.show\n",
        "plt.title('High School Living Environment Exam: Yearly Average Score Comparison')\n",
        "plt.ylabel('Average Score Overall')\n",
        "plt.xlabel('Year & School')\n",
        "#seems like both HighSchools have average Living Environment scores that are > 65 (greater than the bottom of the thresholdavg score from all schools combined) from 2015 thru 2017"
      ],
      "execution_count": 64,
      "outputs": [
        {
          "output_type": "execute_result",
          "data": {
            "text/plain": [
              "Text(0.5, 0, 'Year & School')"
            ]
          },
          "metadata": {
            "tags": []
          },
          "execution_count": 64
        },
        {
          "output_type": "display_data",
          "data": {
            "image/png": "[encoded data removed]",
            "text/plain": [
              "<Figure size 432x288 with 1 Axes>"
            ]
          },
          "metadata": {
            "tags": [],
            "needs_background": "light"
          }
        }
      ]
    },
    {
      "cell_type": "code",
      "metadata": {
        "id": "DWQOyrrJfJnH",
        "colab_type": "code",
        "colab": {}
      },
      "source": [
        "#save code in google colab, download as ipnyb then and upload to github# \n",
        "#then create a word document that contains a URL link to the ipnyb file in github# \n",
        "#the word document can be uploaded to Google Class rooms and turned in#"
      ],
      "execution_count": null,
      "outputs": []
    }
  ]
}